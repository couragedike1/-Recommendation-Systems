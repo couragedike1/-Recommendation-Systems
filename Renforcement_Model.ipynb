{
  "nbformat": 4,
  "nbformat_minor": 0,
  "metadata": {
    "colab": {
      "provenance": [],
      "authorship_tag": "ABX9TyPTdEB0mkguXVuZzJ8LkV9N",
      "include_colab_link": true
    },
    "kernelspec": {
      "name": "python3",
      "display_name": "Python 3"
    },
    "language_info": {
      "name": "python"
    }
  },
  "cells": [
    {
      "cell_type": "markdown",
      "metadata": {
        "id": "view-in-github",
        "colab_type": "text"
      },
      "source": [
        "<a href=\"https://colab.research.google.com/github/couragedike1/-Recommendation-Systems/blob/main/Renforcement_Model.ipynb\" target=\"_parent\"><img src=\"https://colab.research.google.com/assets/colab-badge.svg\" alt=\"Open In Colab\"/></a>"
      ]
    },
    {
      "cell_type": "code",
      "execution_count": 12,
      "metadata": {
        "colab": {
          "base_uri": "https://localhost:8080/"
        },
        "id": "cHtjAwacjZAh",
        "outputId": "70c7dbed-262e-426e-d215-ac022bc1f25d"
      },
      "outputs": [
        {
          "output_type": "stream",
          "name": "stdout",
          "text": [
            "Requirement already satisfied: gym in /usr/local/lib/python3.11/dist-packages (0.25.2)\n",
            "Requirement already satisfied: numpy in /usr/local/lib/python3.11/dist-packages (2.0.2)\n",
            "Requirement already satisfied: cloudpickle>=1.2.0 in /usr/local/lib/python3.11/dist-packages (from gym) (3.1.1)\n",
            "Requirement already satisfied: gym-notices>=0.0.4 in /usr/local/lib/python3.11/dist-packages (from gym) (0.0.8)\n",
            "Reading package lists... Done\n",
            "Building dependency tree... Done\n",
            "Reading state information... Done\n",
            "E: Unable to locate package python-opengl\n"
          ]
        }
      ],
      "source": [
        "# Install required libraries in Google Colab\n",
        "!pip install gym numpy\n",
        "!apt-get install -y xvfb python-opengl ffmpeg\n",
        "\n",
        "import gym\n",
        "import numpy as np\n",
        "import time\n"
      ]
    },
    {
      "cell_type": "code",
      "source": [
        "# Set up the CartPole environment\n",
        "env = gym.make('CartPole-v1')\n",
        "state_size = env.observation_space.shape[0]  # 4 for CartPole (position, velocity, angle, angular velocity)\n",
        "action_size = env.action_space.n  # 2 actions (left, right)"
      ],
      "metadata": {
        "colab": {
          "base_uri": "https://localhost:8080/"
        },
        "id": "fgghD_vXjowr",
        "outputId": "26455598-905c-492a-f1cf-b326ac78d85e"
      },
      "execution_count": 2,
      "outputs": [
        {
          "output_type": "stream",
          "name": "stderr",
          "text": [
            "/usr/local/lib/python3.11/dist-packages/gym/core.py:317: DeprecationWarning: \u001b[33mWARN: Initializing wrapper in old step API which returns one bool instead of two. It is recommended to set `new_step_api=True` to use new step API. This will be the default behaviour in future.\u001b[0m\n",
            "  deprecation(\n",
            "/usr/local/lib/python3.11/dist-packages/gym/wrappers/step_api_compatibility.py:39: DeprecationWarning: \u001b[33mWARN: Initializing environment in old step API which returns one bool instead of two. It is recommended to set `new_step_api=True` to use new step API. This will be the default behaviour in future.\u001b[0m\n",
            "  deprecation(\n"
          ]
        }
      ]
    },
    {
      "cell_type": "code",
      "source": [
        "# Discretize the continuous state space (simple bucketing)\n",
        "def discretize_state(state, bins=(10, 10, 10, 10)):\n",
        "    bounds = [(-2.4, 2.4), (-3.0, 3.0), (-0.5, 0.5), (-2.0, 2.0)]  # Approximate bounds for CartPole states\n",
        "    discretized = []\n",
        "    for i in range(len(state)):\n",
        "        scaling = (state[i] - bounds[i][0]) / (bounds[i][1] - bounds[i][0])\n",
        "        new_state = int(np.clip(np.round(scaling * (bins[i] - 1)), 0, bins[i] - 1))\n",
        "        discretized.append(new_state)\n",
        "    return tuple(discretized)"
      ],
      "metadata": {
        "id": "kqasBHB3jqkE"
      },
      "execution_count": 3,
      "outputs": []
    },
    {
      "cell_type": "code",
      "source": [
        "# Initialize Q-table\n",
        "q_table = np.zeros((10, 10, 10, 10, action_size))  # 10 bins per state dimension, 2 actions"
      ],
      "metadata": {
        "id": "MZqssjTgjvn-"
      },
      "execution_count": 4,
      "outputs": []
    },
    {
      "cell_type": "code",
      "source": [
        "# Hyperparameters\n",
        "learning_rate = 0.1\n",
        "discount_factor = 0.99\n",
        "epsilon = 1.0  # Exploration rate\n",
        "epsilon_decay = 0.995\n",
        "min_epsilon = 0.01\n",
        "episodes = 1000\n",
        "max_steps = 200"
      ],
      "metadata": {
        "id": "DrZ3371vj5c3"
      },
      "execution_count": 5,
      "outputs": []
    },
    {
      "cell_type": "code",
      "source": [
        "# Training loop\n",
        "for episode in range(episodes):\n",
        "    state = env.reset()\n",
        "    state = discretize_state(state)\n",
        "    total_reward = 0\n",
        "\n",
        "    for step in range(max_steps):\n",
        "        # Choose action (epsilon-greedy)\n",
        "        if np.random.rand() < epsilon:\n",
        "            action = env.action_space.sample()  # Explore\n",
        "        else:\n",
        "            action = np.argmax(q_table[state])  # Exploit\n",
        "\n",
        "        # Take action\n",
        "        next_state, reward, done, _ = env.step(action)\n",
        "        next_state = discretize_state(next_state)\n",
        "        total_reward += reward\n",
        "\n",
        "        # Update Q-table\n",
        "        best_next_action = np.argmax(q_table[next_state])\n",
        "        q_table[state][action] += learning_rate * (\n",
        "            reward + discount_factor * q_table[next_state][best_next_action] - q_table[state][action]\n",
        "        )\n",
        "\n",
        "        state = next_state\n",
        "\n",
        "        if done:\n",
        "            break\n",
        "\n",
        "    # Decay epsilon\n",
        "    epsilon = max(min_epsilon, epsilon * epsilon_decay)\n",
        "\n",
        "    # Print progress every 100 episodes\n",
        "    if (episode + 1) % 100 == 0:\n",
        "      print(f\"Episode {episode + 1}/{episodes}, Total Reward: {total_reward}, Epsilon: {epsilon:.3f}\")"
      ],
      "metadata": {
        "colab": {
          "base_uri": "https://localhost:8080/"
        },
        "id": "RNqvzgpDkJ7Q",
        "outputId": "7dbdc990-4695-453b-ec86-d1039cdb06ff"
      },
      "execution_count": 7,
      "outputs": [
        {
          "output_type": "stream",
          "name": "stdout",
          "text": [
            "Episode 100/1000, Total Reward: 24.0, Epsilon: 0.606\n",
            "Episode 200/1000, Total Reward: 13.0, Epsilon: 0.367\n",
            "Episode 300/1000, Total Reward: 20.0, Epsilon: 0.222\n",
            "Episode 400/1000, Total Reward: 30.0, Epsilon: 0.135\n",
            "Episode 500/1000, Total Reward: 28.0, Epsilon: 0.082\n",
            "Episode 600/1000, Total Reward: 66.0, Epsilon: 0.049\n",
            "Episode 700/1000, Total Reward: 111.0, Epsilon: 0.030\n",
            "Episode 800/1000, Total Reward: 74.0, Epsilon: 0.018\n",
            "Episode 900/1000, Total Reward: 47.0, Epsilon: 0.011\n",
            "Episode 1000/1000, Total Reward: 23.0, Epsilon: 0.010\n"
          ]
        }
      ]
    },
    {
      "cell_type": "code",
      "source": [
        "# Test the trained agent\n",
        "env = gym.make('CartPole-v1', render_mode='human')  # Render in Colab (might need additional setup)\n",
        "state = env.reset()\n",
        "state = discretize_state(state)\n",
        "done = False\n",
        "total_reward = 0\n",
        "\n",
        "print(\"Testing trained agent...\")\n"
      ],
      "metadata": {
        "colab": {
          "base_uri": "https://localhost:8080/"
        },
        "id": "GxYVauktkV4T",
        "outputId": "d184a39b-5c44-40ec-ca71-ea28f87230cc"
      },
      "execution_count": 10,
      "outputs": [
        {
          "output_type": "stream",
          "name": "stdout",
          "text": [
            "Testing trained agent...\n"
          ]
        },
        {
          "output_type": "stream",
          "name": "stderr",
          "text": [
            "/usr/local/lib/python3.11/dist-packages/gym/core.py:317: DeprecationWarning: \u001b[33mWARN: Initializing wrapper in old step API which returns one bool instead of two. It is recommended to set `new_step_api=True` to use new step API. This will be the default behaviour in future.\u001b[0m\n",
            "  deprecation(\n",
            "/usr/local/lib/python3.11/dist-packages/gym/wrappers/step_api_compatibility.py:39: DeprecationWarning: \u001b[33mWARN: Initializing environment in old step API which returns one bool instead of two. It is recommended to set `new_step_api=True` to use new step API. This will be the default behaviour in future.\u001b[0m\n",
            "  deprecation(\n"
          ]
        }
      ]
    },
    {
      "cell_type": "code",
      "source": [
        "for step in range(max_steps):\n",
        "    env.render()  # Display the environment\n",
        "    action = np.argmax(q_table[state])\n",
        "    next_state, reward, done, _ = env.step(action)\n",
        "    next_state = discretize_state(next_state)\n",
        "    total_reward += reward\n",
        "    state = next_state\n",
        "    time.sleep(0.05)  # Slow down for visibility\n",
        "    if done:\n",
        "        break\n",
        "\n",
        "print(f\"Test Episode Reward: {total_reward}\")"
      ],
      "metadata": {
        "colab": {
          "base_uri": "https://localhost:8080/"
        },
        "id": "LM6fduPAkm9h",
        "outputId": "e6eff407-f0f2-41be-a510-2aa0cc40b78f"
      },
      "execution_count": 13,
      "outputs": [
        {
          "output_type": "stream",
          "name": "stdout",
          "text": [
            "Test Episode Reward: 30.0\n"
          ]
        }
      ]
    }
  ]
}